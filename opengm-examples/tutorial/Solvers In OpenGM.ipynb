{
 "metadata": {
  "name": "Solvers In OpenGM"
 },
 "nbformat": 3,
 "nbformat_minor": 0,
 "worksheets": [
  {
   "cells": [
    {
     "cell_type": "markdown",
     "metadata": {},
     "source": [
      "Solvers:\n",
      "\n",
      "* Combinatorial Methods:\n",
      "\n",
      " * Integer Linear Programming \n",
      " * Multicut\n",
      " * Multiway Cut\n",
      " * A-star branch-and-bound search \n",
      " * Reduced Inference\n",
      " * BruteForce\n",
      " * CombiLP\n",
      " * DAOOPT\n",
      "\n",
      "* Linear Programming Relaxations:\n",
      "\n",
      " * Dual Decomposition with Bundle\n",
      " * Dual Decomposition with Subgradients \n",
      " * Sequntial Tree-reweighted Message Passing \n",
      " * Adaptive Diminishing Smoothing ALgorithm\n",
      " * Quadratic Pseudo Boolean Optimization\n",
      " * MQPBO\n",
      " * Multiway Cut Relaxations\n",
      " * Linear Programming Relaxations over the Local Polytope\n",
      " * AD3\n",
      " * MPLP\n",
      " * GraphCut:\n",
      "  * Boost Max Flow\n",
      "  * IBFS\n",
      "  * Kolmogorovs algorithm\n",
      "\n",
      "* Message Passing Methods :\n",
      "\n",
      " * Dynamic Programming on acyclic graphs\n",
      " * Loopy Belief Propagation\n",
      " * Sequential Belief Propagation\n",
      " * Tree-reweighted Belief Propagation\n",
      "\n",
      "* Move Making Methods :\n",
      "\n",
      " * Lazy Flipper\n",
      " * Inf and Flip\n",
      " * Iterated Conditional Modes\n",
      " * FastPD\n",
      " * Alpha-Expansion\n",
      " * Alpha-Beta-Swap\n",
      " * Alpha-Fusion\n",
      " * Kerninghan Lin Algorithm \n",
      " * LOC\n"
     ]
    },
    {
     "cell_type": "code",
     "collapsed": false,
     "input": [],
     "language": "python",
     "metadata": {},
     "outputs": []
    },
    {
     "cell_type": "code",
     "collapsed": false,
     "input": [],
     "language": "python",
     "metadata": {},
     "outputs": []
    }
   ],
   "metadata": {}
  }
 ]
}