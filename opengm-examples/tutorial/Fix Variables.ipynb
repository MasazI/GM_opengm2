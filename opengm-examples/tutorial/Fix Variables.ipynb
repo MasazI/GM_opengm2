{
 "metadata": {
  "name": "Fix Variables"
 },
 "nbformat": 3,
 "nbformat_minor": 0,
 "worksheets": [
  {
   "cells": [
    {
     "cell_type": "code",
     "collapsed": false,
     "input": [
      "import opengm\n",
      "import numpy\n",
      "\n",
      "\n",
      "\n",
      "unaries=numpy.random.rand(3,3,2)\n",
      "potts=opengm.PottsFunction([2,2],0.0,0.2)\n",
      "gm=opengm.grid2d2Order(unaries=unaries,regularizer=potts)\n",
      "\n",
      "subGm,subGmVis = gm.fixVariables([0,1,2],[0,0,1])\n",
      "\n"
     ],
     "language": "python",
     "metadata": {},
     "outputs": [],
     "prompt_number": 2
    }
   ],
   "metadata": {}
  }
 ]
}