{
 "metadata": {
  "name": "Hard and Soft Constraints"
 },
 "nbformat": 3,
 "nbformat_minor": 0,
 "worksheets": [
  {
   "cells": [
    {
     "cell_type": "heading",
     "level": 1,
     "metadata": {},
     "source": [
      "Hungarian Algorithm"
     ]
    },
    {
     "cell_type": "code",
     "collapsed": false,
     "input": [
      "import opengm\n",
      "import numpy\n",
      "\n",
      "\n",
      "numObjects = 4\n",
      "costs = numpy.random.rand(numObjects,numObjects)\n",
      "print costs"
     ],
     "language": "python",
     "metadata": {},
     "outputs": [
      {
       "output_type": "stream",
       "stream": "stdout",
       "text": [
        "[[ 0.12206616  0.16525182  0.39458393  0.34575197]\n",
        " [ 0.16809962  0.4718343   0.03370519  0.66328466]\n",
        " [ 0.19978097  0.26276099  0.28855966  0.65837158]\n",
        " [ 0.83885196  0.78894048  0.07254031  0.61332373]]\n"
       ]
      }
     ],
     "prompt_number": 2
    },
    {
     "cell_type": "heading",
     "level": 2,
     "metadata": {},
     "source": [
      "Soft Constraint GM"
     ]
    },
    {
     "cell_type": "code",
     "collapsed": false,
     "input": [
      "gm = opengm.gm([numObjects]*numObjects)\n",
      "\n",
      "unaryIds = gm.addFunctions(costs)\n",
      "gm.addFactors(unaryIds,numpy.arange(numObjects))\n",
      "\n",
      "f1To1=opengm.pottsFunction([numObjects,numObjects],10000.0, 0.0)\n",
      "f1To1Id=gm.addFunction(f1To1)\n",
      "\n",
      "for x0 in range(numObjects):\n",
      "    for x1 in range(x0+1,numObjects):\n",
      "        gm.addFactor(f1To1Id,[x0,x1])"
     ],
     "language": "python",
     "metadata": {},
     "outputs": [],
     "prompt_number": 3
    },
    {
     "cell_type": "heading",
     "level": 3,
     "metadata": {},
     "source": [
      "Inference with Lazy Flipper"
     ]
    },
    {
     "cell_type": "code",
     "collapsed": false,
     "input": [
      "Inf = opengm.inference.LazyFlipper\n",
      "param = opengm.InfParam(maxSubgraphSize=1)\n",
      "inf = Inf(gm=gm,parameter=param)\n",
      "inf.infer()\n",
      "arg = inf.arg()\n",
      "print arg, gm.evaluate(arg)\n",
      "print len(numpy.unique(arg))"
     ],
     "language": "python",
     "metadata": {},
     "outputs": [
      {
       "output_type": "stream",
       "stream": "stdout",
       "text": [
        "[1 2 3 0] 1.69618053991\n",
        "4\n"
       ]
      }
     ],
     "prompt_number": 4
    },
    {
     "cell_type": "code",
     "collapsed": false,
     "input": [
      "Inf = opengm.inference.LazyFlipper\n",
      "param = opengm.InfParam(maxSubgraphSize=2)\n",
      "inf = Inf(gm=gm,parameter=param)\n",
      "# use warm start\n",
      "inf.setStartingPoint(arg)\n",
      "inf.infer()\n",
      "arg = inf.arg()\n",
      "print arg, gm.evaluate(arg)\n",
      "print len(numpy.unique(arg))"
     ],
     "language": "python",
     "metadata": {},
     "outputs": [
      {
       "output_type": "stream",
       "stream": "stdout",
       "text": [
        "[1 2 0 3] 1.01206170853\n",
        "4\n"
       ]
      }
     ],
     "prompt_number": 5
    },
    {
     "cell_type": "code",
     "collapsed": false,
     "input": [
      "Inf = opengm.inference.LazyFlipper\n",
      "param = opengm.InfParam(maxSubgraphSize=3)\n",
      "inf = Inf(gm=gm,parameter=param)\n",
      "inf.infer()\n",
      "# use warm start\n",
      "inf.setStartingPoint(arg)\n",
      "arg = inf.arg()\n",
      "print arg, gm.evaluate(arg)\n",
      "print len(numpy.unique(arg))"
     ],
     "language": "python",
     "metadata": {},
     "outputs": [
      {
       "output_type": "stream",
       "stream": "stdout",
       "text": [
        "[1 2 0 3] 1.01206170853\n",
        "4\n"
       ]
      }
     ],
     "prompt_number": 6
    },
    {
     "cell_type": "heading",
     "level": 2,
     "metadata": {},
     "source": [
      "Hard Constraint GM"
     ]
    },
    {
     "cell_type": "code",
     "collapsed": false,
     "input": [
      "gmB = opengm.gm([numObjects]*numObjects)\n",
      "\n",
      "unaryIds = gmB.addFunctions(costs)\n",
      "gmB.addFactors(unaryIds,numpy.arange(numObjects))"
     ],
     "language": "python",
     "metadata": {},
     "outputs": [
      {
       "output_type": "pyout",
       "prompt_number": 7,
       "text": [
        "3L"
       ]
      }
     ],
     "prompt_number": 7
    },
    {
     "cell_type": "heading",
     "level": 3,
     "metadata": {},
     "source": [
      "Inference with LpCplex"
     ]
    },
    {
     "cell_type": "code",
     "collapsed": false,
     "input": [
      "cplexParam = opengm.InfParam(integerConstraint=True)\n",
      "lpCplex = opengm.inference.LpCplex(gm=gm,parameter=cplexParam)\n",
      "\n",
      "\n",
      "for x0 in range(numObjects):\n",
      "    for x1 in range(x0+1,numObjects):\n",
      "        \n",
      "        for label in range(numObjects):\n",
      "            lpVarx0  = lpCplex.lpNodeVariableIndex(x0,label)\n",
      "            lpVarx1  = lpCplex.lpNodeVariableIndex(x1,label)\n",
      "            constraintVars  = [lpVarx0,lpVarx1]\n",
      "            constraintCoeff = [1.0,1.0]\n",
      "            lowerBound = 0.0\n",
      "            upperBound = 1.0\n",
      "            lpCplex.addConstraint(constraintVars,constraintCoeff,lowerBound,upperBound)\n",
      "            \n",
      "            \n",
      "lpCplex.infer()\n",
      "arg = lpCplex.arg()\n",
      "print arg, gm.evaluate(arg)\n",
      "print len(numpy.unique(arg))"
     ],
     "language": "python",
     "metadata": {},
     "outputs": [
      {
       "output_type": "stream",
       "stream": "stdout",
       "text": [
        "[4 3 1 2 0] 1.2429384696\n",
        "5\n"
       ]
      }
     ],
     "prompt_number": 7
    }
   ],
   "metadata": {}
  }
 ]
}